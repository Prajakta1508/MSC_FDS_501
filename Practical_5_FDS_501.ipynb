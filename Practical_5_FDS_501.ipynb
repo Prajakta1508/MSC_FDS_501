{
  "nbformat": 4,
  "nbformat_minor": 0,
  "metadata": {
    "colab": {
      "provenance": [],
      "authorship_tag": "ABX9TyPBfdotnNDyTgn+ds9cpTCY",
      "include_colab_link": true
    },
    "kernelspec": {
      "name": "python3",
      "display_name": "Python 3"
    },
    "language_info": {
      "name": "python"
    }
  },
  "cells": [
    {
      "cell_type": "markdown",
      "metadata": {
        "id": "view-in-github",
        "colab_type": "text"
      },
      "source": [
        "<a href=\"https://colab.research.google.com/github/Prajakta1508/MSC_FDS_501/blob/main/Practical_5_FDS_501.ipynb\" target=\"_parent\"><img src=\"https://colab.research.google.com/assets/colab-badge.svg\" alt=\"Open In Colab\"/></a>"
      ]
    },
    {
      "cell_type": "markdown",
      "source": [
        "# **Practical:-5-DISCRETE** **DISTRIBUTIONS**"
      ],
      "metadata": {
        "id": "iU6vwy9Jb-Og"
      }
    },
    {
      "cell_type": "code",
      "execution_count": null,
      "metadata": {
        "id": "DCO2FmDmPY9g"
      },
      "outputs": [],
      "source": [
        "# for inline plots in jupyter\n",
        "%matplotlib inline\n",
        "# import matplotlib\n",
        "import matplotlib.pyplot as plt\n",
        "# for latex equations\n",
        "from IPython.display import Math, Latex\n",
        "# for displaying images\n",
        "from IPython.core.display import Image\n",
        "import numpy as np"
      ]
    },
    {
      "cell_type": "code",
      "source": [
        "# import seaborn\n",
        "import seaborn as sns\n",
        "# settings for seaborn plotting style\n",
        "sns.set(color_codes=True)\n",
        "# settings for seaborn plot sizes\n",
        "sns.set(rc={'figure.figsize':(5,5)})\n"
      ],
      "metadata": {
        "id": "VS9L6b6ZQJVe"
      },
      "execution_count": null,
      "outputs": []
    },
    {
      "cell_type": "markdown",
      "source": [
        "# Bernoulli Distribution¶"
      ],
      "metadata": {
        "id": "UwinNb7bQMa_"
      }
    },
    {
      "cell_type": "code",
      "source": [
        "from scipy.stats import bernoulli\n",
        "data_bern = bernoulli.rvs(size=10000,p=0.6)"
      ],
      "metadata": {
        "id": "o6HF7voBQSCy"
      },
      "execution_count": null,
      "outputs": []
    },
    {
      "cell_type": "code",
      "source": [
        "ax= sns.distplot(data_bern,\n",
        "                 kde=False,\n",
        "                 color=\"skyblue\",\n",
        "                 hist_kws={\"linewidth\": 15,'alpha':1})\n",
        "ax.set(xlabel='Bernoulli Distribution', ylabel='Frequency')"
      ],
      "metadata": {
        "colab": {
          "base_uri": "https://localhost:8080/",
          "height": 411
        },
        "id": "E7_VVr45QSPd",
        "outputId": "6918b989-34cb-4c3c-9ce3-1cf4f4cc2126"
      },
      "execution_count": null,
      "outputs": [
        {
          "output_type": "stream",
          "name": "stderr",
          "text": [
            "/usr/local/lib/python3.7/dist-packages/seaborn/distributions.py:2619: FutureWarning: `distplot` is a deprecated function and will be removed in a future version. Please adapt your code to use either `displot` (a figure-level function with similar flexibility) or `histplot` (an axes-level function for histograms).\n",
            "  warnings.warn(msg, FutureWarning)\n"
          ]
        },
        {
          "output_type": "execute_result",
          "data": {
            "text/plain": [
              "[Text(0, 0.5, 'Frequency'), Text(0.5, 0, 'Bernoulli Distribution')]"
            ]
          },
          "metadata": {},
          "execution_count": 5
        },
        {
          "output_type": "display_data",
          "data": {
            "text/plain": [
              "<Figure size 360x360 with 1 Axes>"
            ],
            "image/png": "[encoded data removed]"
          },
          "metadata": {}
        }
      ]
    },
    {
      "cell_type": "markdown",
      "source": [
        "# BINOMINAL DISTRIBUTION"
      ],
      "metadata": {
        "id": "KYpo8HFxQe6G"
      }
    },
    {
      "cell_type": "code",
      "source": [
        "from scipy.stats import binom\n",
        "data_binom = binom.rvs(n=10,p=0.8,size=10000)"
      ],
      "metadata": {
        "id": "QcfNsf4cQZxa"
      },
      "execution_count": null,
      "outputs": []
    },
    {
      "cell_type": "code",
      "source": [
        "ax = sns.distplot(data_binom,\n",
        "                  kde=False,\n",
        "                  color='skyblue',\n",
        "                  hist_kws={\"linewidth\": 15,'alpha':1})\n",
        "ax.set(xlabel='Binomial Distribution', ylabel='Frequency')"
      ],
      "metadata": {
        "colab": {
          "base_uri": "https://localhost:8080/",
          "height": 356
        },
        "id": "JLpxf_uTQjH6",
        "outputId": "890d3669-a149-4336-dbb7-5fb6f5b1bb05"
      },
      "execution_count": null,
      "outputs": [
        {
          "output_type": "execute_result",
          "data": {
            "text/plain": [
              "[Text(0, 0.5, 'Frequency'), Text(0.5, 0, 'Binomial Distribution')]"
            ]
          },
          "metadata": {},
          "execution_count": 16
        },
        {
          "output_type": "display_data",
          "data": {
            "text/plain": [
              "<Figure size 360x360 with 1 Axes>"
            ],
            "image/png": "[encoded data removed]"
          },
          "metadata": {}
        }
      ]
    },
    {
      "cell_type": "markdown",
      "source": [
        "# Poisson Distribution"
      ],
      "metadata": {
        "id": "VAf5CHVDQqcp"
      }
    },
    {
      "cell_type": "code",
      "source": [
        "from scipy.stats import poisson\n",
        "data_poisson = poisson.rvs(mu=3, size=10000)"
      ],
      "metadata": {
        "id": "ziIUMxiYQjOC"
      },
      "execution_count": null,
      "outputs": []
    },
    {
      "cell_type": "code",
      "source": [
        "ax = sns.distplot(data_poisson,\n",
        "                  bins=30,\n",
        "                  kde=False,\n",
        "                  color='skyblue',\n",
        "                  hist_kws={\"linewidth\": 10,'alpha':1})\n",
        "ax.set(xlabel='Poisson Distribution', ylabel='Frequency')"
      ],
      "metadata": {
        "colab": {
          "base_uri": "https://localhost:8080/",
          "height": 356
        },
        "id": "uZI06OQnQt8p",
        "outputId": "f7394ce5-e408-4352-a2cd-9e13d3b7ee40"
      },
      "execution_count": null,
      "outputs": [
        {
          "output_type": "execute_result",
          "data": {
            "text/plain": [
              "[Text(0, 0.5, 'Frequency'), Text(0.5, 0, 'Poisson Distribution')]"
            ]
          },
          "metadata": {},
          "execution_count": 18
        },
        {
          "output_type": "display_data",
          "data": {
            "text/plain": [
              "<Figure size 360x360 with 1 Axes>"
            ],
            "image/png": "[encoded data removed]"
          },
          "metadata": {}
        }
      ]
    }
  ]
}